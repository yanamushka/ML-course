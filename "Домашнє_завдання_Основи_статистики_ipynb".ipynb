{
  "nbformat": 4,
  "nbformat_minor": 0,
  "metadata": {
    "colab": {
      "provenance": [],
      "include_colab_link": true
    },
    "kernelspec": {
      "name": "python3",
      "display_name": "Python 3"
    },
    "language_info": {
      "name": "python"
    }
  },
  "cells": [
    {
      "cell_type": "markdown",
      "metadata": {
        "id": "view-in-github",
        "colab_type": "text"
      },
      "source": [
        "<a href=\"https://colab.research.google.com/github/yanamushka/ML-course/blob/main/%22%D0%94%D0%BE%D0%BC%D0%B0%D1%88%D0%BD%D1%94_%D0%B7%D0%B0%D0%B2%D0%B4%D0%B0%D0%BD%D0%BD%D1%8F_%D0%9E%D1%81%D0%BD%D0%BE%D0%B2%D0%B8_%D1%81%D1%82%D0%B0%D1%82%D0%B8%D1%81%D1%82%D0%B8%D0%BA%D0%B8_ipynb%22.ipynb\" target=\"_parent\"><img src=\"https://colab.research.google.com/assets/colab-badge.svg\" alt=\"Open In Colab\"/></a>"
      ]
    },
    {
      "cell_type": "markdown",
      "source": [
        "В цьому домашньому завданні відпрацюємо з вами знання, отримані в модулі зі статистики.\n",
        "\n",
        "**Завдання 1.** Ми обговорили з Вами на лекції, що велика літера Сігма грецького алфавіту позначає в математиці суму. Знайдіть з використанням Python $\\Sigma x$, $\\Sigma x^2$, та $\\Sigma (x-1)^2$ для наступного набору даних:\n",
        "`1 3 4`\n",
        "Виведіть результат кожного обчислення на екран."
      ],
      "metadata": {
        "id": "SDhaTqxcWhnP"
      }
    },
    {
      "cell_type": "code",
      "source": [
        "x=[1,3,4]"
      ],
      "metadata": {
        "id": "B1mgx_IBT0e8"
      },
      "execution_count": 15,
      "outputs": []
    },
    {
      "cell_type": "code",
      "source": [
        "sum_x = sum(x)\n",
        "sum_x"
      ],
      "metadata": {
        "colab": {
          "base_uri": "https://localhost:8080/"
        },
        "id": "lOPNO3i_rmCh",
        "outputId": "2f888e83-6ad8-4ae7-a87e-df44999717a6"
      },
      "execution_count": 16,
      "outputs": [
        {
          "output_type": "execute_result",
          "data": {
            "text/plain": [
              "8"
            ]
          },
          "metadata": {},
          "execution_count": 16
        }
      ]
    },
    {
      "cell_type": "code",
      "source": [
        "sum_x2=sum([i**2 for i in x])\n",
        "sum_x2"
      ],
      "metadata": {
        "colab": {
          "base_uri": "https://localhost:8080/"
        },
        "id": "WKTYNUYrr0w7",
        "outputId": "a022e4de-c518-4429-8c5a-5678c192ae18"
      },
      "execution_count": 17,
      "outputs": [
        {
          "output_type": "execute_result",
          "data": {
            "text/plain": [
              "26"
            ]
          },
          "metadata": {},
          "execution_count": 17
        }
      ]
    },
    {
      "cell_type": "code",
      "source": [
        "sum_x_min_1 = sum([(i-1)**2 for i in x])\n",
        "sum_x_min_1"
      ],
      "metadata": {
        "colab": {
          "base_uri": "https://localhost:8080/"
        },
        "id": "ma-o1GNKsoIS",
        "outputId": "726e2be6-c25c-4f93-e4ed-f53b6d18e84e"
      },
      "execution_count": 18,
      "outputs": [
        {
          "output_type": "execute_result",
          "data": {
            "text/plain": [
              "13"
            ]
          },
          "metadata": {},
          "execution_count": 18
        }
      ]
    },
    {
      "cell_type": "markdown",
      "source": [
        "**Завдання 2.** Ми зібрали дані про суму покупок в гривнях 20ма випадково обраними клієнтами в нашому магазині (всього клієнтів у нас більше) за минулий місяць. Вони представлені в змінній `sum_purchases`. Знайдіть **вибіркове середнє** для цих даних кожним з зазначених методів:   \n",
        "\n",
        "  2.1. без використання жодних бібліотек, користуючись тільки Python.  \n",
        "  2.2. використовуючи відповідний метод бібліотеки `numpy`.\n",
        "\n",
        "  Виведіть результат обчислень в кожному з випадків на екран та порівняйте результати. Вони співпадають?"
      ],
      "metadata": {
        "id": "fa78aW5lhiia"
      }
    },
    {
      "cell_type": "code",
      "execution_count": 21,
      "metadata": {
        "id": "_9kMt3rq6V5m"
      },
      "outputs": [],
      "source": [
        "sum_purchases = [ 316,  493,  367,  153,  224,  121,  322,  450,  196,  397,  281,\n",
        "  239,  484,  124,  223,  448,  432,  255, 4310, 3524]"
      ]
    },
    {
      "cell_type": "code",
      "source": [
        "sum(sum_purchases)/len(sum_purchases)"
      ],
      "metadata": {
        "id": "wPmL919HT1c0",
        "colab": {
          "base_uri": "https://localhost:8080/"
        },
        "outputId": "fd836bea-de38-4736-8253-22de9b840877"
      },
      "execution_count": 22,
      "outputs": [
        {
          "output_type": "execute_result",
          "data": {
            "text/plain": [
              "667.95"
            ]
          },
          "metadata": {},
          "execution_count": 22
        }
      ]
    },
    {
      "cell_type": "code",
      "source": [
        "import numpy as np"
      ],
      "metadata": {
        "id": "6kDwJOfst4uZ"
      },
      "execution_count": 24,
      "outputs": []
    },
    {
      "cell_type": "code",
      "source": [
        "np.mean(sum_purchases)"
      ],
      "metadata": {
        "colab": {
          "base_uri": "https://localhost:8080/"
        },
        "id": "0NMZ4Az6tvqa",
        "outputId": "132b3f85-0adb-4346-9545-e7af4a3ecf5f"
      },
      "execution_count": 25,
      "outputs": [
        {
          "output_type": "execute_result",
          "data": {
            "text/plain": [
              "667.95"
            ]
          },
          "metadata": {},
          "execution_count": 25
        }
      ]
    },
    {
      "cell_type": "markdown",
      "source": [
        "**Завдання 3.** Для того ж набору даних в змінній `sum_purchases` обчисліть **медіану** кожним з зазначених методів:  \n",
        "\n",
        "  3.1. без використання жодних бібліотек, користуючись тільки Python.  \n",
        "  3.2. використовуючи відповідний метод бібліотеки numpy.  \n",
        "\n",
        "Виведіть результат обчислень в кожному з випадків на екран. Порівняйте результати зі значенням вибіркового середнього. Напишіть коментар, для яких задач ви б використовували вибіркове середнє, а для яких - медіану?"
      ],
      "metadata": {
        "id": "FMdoxZd0kZdW"
      }
    },
    {
      "cell_type": "code",
      "source": [
        "(sorted(sum_purchases)[len(sum_purchases) // 2 - 1] + sorted(sum_purchases)[len(sum_purchases)//2])/2"
      ],
      "metadata": {
        "id": "x58BumvuT2nl",
        "colab": {
          "base_uri": "https://localhost:8080/"
        },
        "outputId": "fe4e94ec-637d-4ba8-b37f-f5372078968b"
      },
      "execution_count": 32,
      "outputs": [
        {
          "output_type": "execute_result",
          "data": {
            "text/plain": [
              "319.0"
            ]
          },
          "metadata": {},
          "execution_count": 32
        }
      ]
    },
    {
      "cell_type": "code",
      "source": [
        "np.median(sum_purchases)"
      ],
      "metadata": {
        "colab": {
          "base_uri": "https://localhost:8080/"
        },
        "id": "YoY8k5KWu45Z",
        "outputId": "4ba7aa37-a2fc-4adb-e2a0-da104ad0c8c5"
      },
      "execution_count": 31,
      "outputs": [
        {
          "output_type": "execute_result",
          "data": {
            "text/plain": [
              "319.0"
            ]
          },
          "metadata": {},
          "execution_count": 31
        }
      ]
    },
    {
      "cell_type": "markdown",
      "source": [
        "**Завдання 4**. Обчислість стандартне відхилення наведеної вибірки в змінній `sum_purchases` кожним з зазначених методів:  \n",
        "\n",
        "  4.1. без використання жодних бібліотек, користуючись тільки Python.  \n",
        "  4.2. використовуючи відповідний метод бібліотеки numpy.  \n",
        "\n",
        "Виведіть результат обчислень в кожному з випадків на екран."
      ],
      "metadata": {
        "id": "o1Z7az2yNDQV"
      }
    },
    {
      "cell_type": "code",
      "source": [
        "std_sum_p = sum([(i-np.mean(sum_purchases))**2 for i in sum_purchases]) / (len(sum_purchases))\n",
        "std_sum_p**0.5"
      ],
      "metadata": {
        "id": "X4ixtmL2T642",
        "colab": {
          "base_uri": "https://localhost:8080/"
        },
        "outputId": "32a63081-57ef-462d-9524-d733623d6fff"
      },
      "execution_count": 66,
      "outputs": [
        {
          "output_type": "execute_result",
          "data": {
            "text/plain": [
              "1096.0692713054227"
            ]
          },
          "metadata": {},
          "execution_count": 66
        }
      ]
    },
    {
      "cell_type": "code",
      "source": [
        "np.std(sum_purchases)"
      ],
      "metadata": {
        "colab": {
          "base_uri": "https://localhost:8080/"
        },
        "id": "VVQYi-Byv6vv",
        "outputId": "9e3af007-a44b-4a01-a06a-cf75d01f77c5"
      },
      "execution_count": 36,
      "outputs": [
        {
          "output_type": "execute_result",
          "data": {
            "text/plain": [
              "1096.0692713054227"
            ]
          },
          "metadata": {},
          "execution_count": 36
        }
      ]
    },
    {
      "cell_type": "markdown",
      "source": [
        "**Завдання 5**. Ми провели дослідження віку студентів-першокурсників. Виявилось, що\n",
        "- 10 студентів мають вік 16 років\n",
        "- 25 студентів - 17 років\n",
        "- 20 студентів - 18 років\n",
        "- 2 студенти - 20 років\n",
        "\n",
        "Обчислість середнє значення для цієї вибірки будь-яким способом - на чистому Python або з numpy - та виведіть результат на екран."
      ],
      "metadata": {
        "id": "M1ntKTjXLVlH"
      }
    },
    {
      "cell_type": "code",
      "source": [
        "students = [16]*10 + [17] * 25 + [18] * 20 + [20] * 2"
      ],
      "metadata": {
        "id": "RdIU4M-7T8R4"
      },
      "execution_count": 38,
      "outputs": []
    },
    {
      "cell_type": "code",
      "source": [
        "np.mean(students)"
      ],
      "metadata": {
        "colab": {
          "base_uri": "https://localhost:8080/"
        },
        "id": "Votb38khwSGm",
        "outputId": "3cbb1da7-164a-4ae9-c9d3-53d3adcd5d09"
      },
      "execution_count": 41,
      "outputs": [
        {
          "output_type": "execute_result",
          "data": {
            "text/plain": [
              "17.280701754385966"
            ]
          },
          "metadata": {},
          "execution_count": 41
        }
      ]
    },
    {
      "cell_type": "markdown",
      "source": [
        "**Завдання 6**. Крім даних про суму покупок, ми зібрали ще дані про кількість відвідувань кожного з кожного покупця, які знаходяться в змінній `visits`. Обчисліть коефіцієнт кореляції Пірсона для суми покупок і кількості відвідувань кожним з зазначених методів:  \n",
        "\n",
        "  6.1. без використання жодних бібліотек, користуючись тільки Python.  \n",
        "  6.2. використовуючи відповідний метод бібліотеки numpy.  \n",
        "  \n",
        "Виведіть результат на екран. Проаналізуйте результат.\n",
        "\n",
        "Виведіть додатково графік розсіювання викликавши код нижче і зробіть заключення, чи варто щось змінити при підрахунку кореляції, аби коефіцієнт Пірсона показував коректну оцінку лінійної залежності?"
      ],
      "metadata": {
        "id": "Xx8MFkkVM53z"
      }
    },
    {
      "cell_type": "code",
      "source": [
        "visits = [ 6,  2, 10,  3,  9,  9,  2,  3,  6,  6, 10,  2,  5, 10,  3,  5,  4,\n",
        "        7,  4,  2]"
      ],
      "metadata": {
        "id": "4OIGBT7UOWhO"
      },
      "execution_count": 44,
      "outputs": []
    },
    {
      "cell_type": "code",
      "source": [
        "cov_v_sum_p = sum([(visits[i] - sum(visits) / len(visits))*(sum_purchases[i] - sum(sum_purchases)/len(sum_purchases)) for i in range(len(visits)) ])/len(visits)\n"
      ],
      "metadata": {
        "id": "YLNF7VbeT97Q"
      },
      "execution_count": 65,
      "outputs": []
    },
    {
      "cell_type": "code",
      "source": [
        "std_sum_p_vistits = (sum([(i-sum(sum_purchases)/len(sum_purchases))**2 for i in sum_purchases]) / (len(visits)))**0.5 * (sum([(i-sum(visits)/len(visits))**2 for i in visits]) / (len(visits)))**0.5"
      ],
      "metadata": {
        "id": "mmgv3r3ozS2h"
      },
      "execution_count": 69,
      "outputs": []
    },
    {
      "cell_type": "code",
      "source": [
        "corr_coef = cov_v_sum_p/std_sum_p_vistits\n",
        "corr_coef"
      ],
      "metadata": {
        "colab": {
          "base_uri": "https://localhost:8080/"
        },
        "id": "pRM_6BMX1R7y",
        "outputId": "110d233a-f232-4bcd-93ee-6a0d5401b7a1"
      },
      "execution_count": 70,
      "outputs": [
        {
          "output_type": "execute_result",
          "data": {
            "text/plain": [
              "-0.30265844687666454"
            ]
          },
          "metadata": {},
          "execution_count": 70
        }
      ]
    },
    {
      "cell_type": "code",
      "source": [
        "np.corrcoef(sum_purchases, visits)"
      ],
      "metadata": {
        "colab": {
          "base_uri": "https://localhost:8080/"
        },
        "id": "l8-d247Pwpel",
        "outputId": "312221ff-0233-4533-8dbc-d444f8c5b94c"
      },
      "execution_count": 45,
      "outputs": [
        {
          "output_type": "execute_result",
          "data": {
            "text/plain": [
              "array([[ 1.        , -0.30265845],\n",
              "       [-0.30265845,  1.        ]])"
            ]
          },
          "metadata": {},
          "execution_count": 45
        }
      ]
    },
    {
      "cell_type": "code",
      "source": [
        "import matplotlib.pyplot as plt\n",
        "\n",
        "plt.scatter(sum_purchases, visits)\n",
        "plt.title('Scatter Plot of Purchases vs. Visits')\n",
        "plt.xlabel('Sum of Purchases')\n",
        "plt.ylabel('Number of Visits');"
      ],
      "metadata": {
        "colab": {
          "base_uri": "https://localhost:8080/",
          "height": 472
        },
        "id": "gaeoGA-5Prr1",
        "outputId": "cddddce5-9c75-4535-f512-7d9227277772"
      },
      "execution_count": 71,
      "outputs": [
        {
          "output_type": "display_data",
          "data": {
            "text/plain": [
              "<Figure size 640x480 with 1 Axes>"
            ],
            "image/png": "[encoded data removed]"
          },
          "metadata": {}
        }
      ]
    },
    {
      "cell_type": "markdown",
      "source": [
        "**Завдання 7**. В попередньому завданні ми помітили, що викиди нам заважають отримати \"правдиве\" значення кореляції. Давайте вилучимо записи, які відповідають значенням з викидами в сумі покупок і обчисліть коеф. кореляції. Для цього поставте `threshold`, який дорінює середньому значенню + 2 стандартних вдіхилля суми покупок і всі значення, які більше за нього, будемо вважати викидами (є і інші правила для визначення викидів - з ним и познайомимось пізніше).\n",
        "\n",
        "Вилучіть значення з обох масивів і обчисліть коеф. кореляції Пірсона з допомогою `numpy` для кількості візитів і суми покупок без записів-викидів. Виведіть результат на екран, побудуйте діаграму розсіювання і проаналізуйте результат: що можемо сказати про залежність в даних?"
      ],
      "metadata": {
        "id": "4pEg0KzSQ6KA"
      }
    },
    {
      "cell_type": "code",
      "source": [
        "threshold_sum_p = np.mean(sum_purchases) + 2 * np.std(sum_purchases)"
      ],
      "metadata": {
        "id": "URumHTeb4jkQ"
      },
      "execution_count": 72,
      "outputs": []
    },
    {
      "cell_type": "code",
      "source": [
        "sum_purchases_filtered = [i for i in sum_purchases if i <= threshold_sum_p ]\n",
        "visits_filtered = [visits[i] for i in range(len(visits)) if sum_purchases[i] <= threshold_sum_p]"
      ],
      "metadata": {
        "id": "1xojNwrV66Hu"
      },
      "execution_count": 90,
      "outputs": []
    },
    {
      "cell_type": "code",
      "source": [
        "np.corrcoef(sum_purchases_filtered, visits_filtered)"
      ],
      "metadata": {
        "colab": {
          "base_uri": "https://localhost:8080/"
        },
        "id": "hLenI9Ap-PlA",
        "outputId": "1045c0cc-0613-4d89-f25f-e58ce1125e83"
      },
      "execution_count": 91,
      "outputs": [
        {
          "output_type": "execute_result",
          "data": {
            "text/plain": [
              "array([[ 1.        , -0.36852121],\n",
              "       [-0.36852121,  1.        ]])"
            ]
          },
          "metadata": {},
          "execution_count": 91
        }
      ]
    },
    {
      "cell_type": "code",
      "source": [
        "plt.scatter(sum_purchases_filtered, visits_filtered)\n",
        "plt.title('Scatter Plot of  Filtered Purchases vs. Visits')\n",
        "plt.xlabel('Sum of Purchases Filtered')\n",
        "plt.ylabel('Number of Visits Filtered');"
      ],
      "metadata": {
        "colab": {
          "base_uri": "https://localhost:8080/",
          "height": 472
        },
        "id": "wZ9ZCtKR-YB1",
        "outputId": "b2316085-07df-43b5-df44-60e23eda38ac"
      },
      "execution_count": 92,
      "outputs": [
        {
          "output_type": "display_data",
          "data": {
            "text/plain": [
              "<Figure size 640x480 with 1 Axes>"
            ],
            "image/png": "[encoded data removed]"
          },
          "metadata": {}
        }
      ]
    },
    {
      "cell_type": "markdown",
      "source": [
        "Після видалення викидів можемо сказати, що коефіцієнт кореляції все ще доволі низький, що свідчить про відсутність лінійної залежності між кількістю візитів та сумою покупок"
      ],
      "metadata": {
        "id": "zC98Z2I6-khy"
      }
    }
  ]
}